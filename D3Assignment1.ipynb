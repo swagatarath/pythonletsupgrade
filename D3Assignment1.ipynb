{
  "nbformat": 4,
  "nbformat_minor": 0,
  "metadata": {
    "colab": {
      "name": "D3Assignment1.ipynb",
      "provenance": [],
      "collapsed_sections": []
    },
    "kernelspec": {
      "name": "python3",
      "display_name": "Python 3"
    }
  },
  "cells": [
    {
      "cell_type": "markdown",
      "metadata": {
        "id": "yxh3cJxkYr1j"
      },
      "source": [
        "You all are pilots, you have to land a plane, the altitude required for landing a planeis 1000ft, if it is less than that tell pilot to land the plane, or it is more than that but less than 5000ft ask the pilot to \"come down to 1000ft\", else if it is more than 5000ft ask the pilot to \"go around and try later\".\r\n",
        "\r\n",
        "\r\n",
        "1.Ex: Input - 1000\r\n",
        "  Output - Safe to land\r\n",
        "2.Ex: Input - 4500\r\n",
        "  Output - Bring down to 1000\r\n",
        "3.Ex: Input - 6500\r\n",
        "  Output - Turn Around\r\n",
        "\r\n"
      ]
    },
    {
      "cell_type": "code",
      "metadata": {
        "id": "qKUk5ceDccIZ"
      },
      "source": [
        "Alt= input('What is the present altitude?')\r\n",
        "Alt= int(Alt)\r\n",
        "if Alt <= 1000 :\r\n",
        "  print('Safe to land')\r\n",
        "elif Alt>1000 or Alt < 5000 :\r\n",
        "  print('Bring down to 1000')\r\n",
        "else:\r\n",
        "  print('Turn around and try Again')"
      ],
      "execution_count": null,
      "outputs": []
    },
    {
      "cell_type": "code",
      "metadata": {
        "id": "r_A3BigPjhgH"
      },
      "source": [
        ""
      ],
      "execution_count": null,
      "outputs": []
    }
  ]
}