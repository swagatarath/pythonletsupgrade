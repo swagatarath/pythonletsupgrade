{
  "nbformat": 4,
  "nbformat_minor": 0,
  "metadata": {
    "colab": {
      "name": "D2Assignment.ipynb",
      "provenance": [],
      "collapsed_sections": []
    },
    "kernelspec": {
      "name": "python3",
      "display_name": "Python 3"
    }
  },
  "cells": [
    {
      "cell_type": "markdown",
      "metadata": {
        "id": "R_JzQbqc4YCj"
      },
      "source": [
        "Q1) Experiment with 5 list's inbuilt functions"
      ]
    },
    {
      "cell_type": "code",
      "metadata": {
        "colab": {
          "base_uri": "https://localhost:8080/"
        },
        "id": "UKoo5vyQ1yav",
        "outputId": "c8798bf4-0b03-4eda-8b46-3ce92a0f5245"
      },
      "source": [
        "a = ['youtube', 'letsupgrade', 8.30, 9.30, 'saisir', 'paridhimaam']\r\n",
        "type(a)"
      ],
      "execution_count": null,
      "outputs": [
        {
          "output_type": "execute_result",
          "data": {
            "text/plain": [
              "list"
            ]
          },
          "metadata": {
            "tags": []
          },
          "execution_count": 2
        }
      ]
    },
    {
      "cell_type": "code",
      "metadata": {
        "id": "oD9rmGti1Z7T"
      },
      "source": [
        "a.append('assignment')"
      ],
      "execution_count": null,
      "outputs": []
    },
    {
      "cell_type": "code",
      "metadata": {
        "colab": {
          "base_uri": "https://localhost:8080/"
        },
        "id": "ixt0kc472k8U",
        "outputId": "05dd5943-3833-4901-916c-8d12b552f51a"
      },
      "source": [
        "print(a)"
      ],
      "execution_count": null,
      "outputs": [
        {
          "output_type": "stream",
          "text": [
            "['youtube', 'letsupgrade', 8.3, 9.3, 'saisir', 'paridhimaam', 'assignment']\n"
          ],
          "name": "stdout"
        }
      ]
    },
    {
      "cell_type": "code",
      "metadata": {
        "id": "PlOVSRH32xtM"
      },
      "source": [
        "a.insert(4, 'exam')"
      ],
      "execution_count": null,
      "outputs": []
    },
    {
      "cell_type": "code",
      "metadata": {
        "colab": {
          "base_uri": "https://localhost:8080/"
        },
        "id": "5wNdz9E_3EQc",
        "outputId": "da5f015d-6e2b-4d64-b5f2-5e46e190a961"
      },
      "source": [
        "print(a)"
      ],
      "execution_count": null,
      "outputs": [
        {
          "output_type": "stream",
          "text": [
            "['youtube', 'letsupgrade', 8.3, 9.3, 'exam', 'saisir', 'paridhimaam', 'assignment']\n"
          ],
          "name": "stdout"
        }
      ]
    },
    {
      "cell_type": "code",
      "metadata": {
        "colab": {
          "base_uri": "https://localhost:8080/"
        },
        "id": "e3-jDS_c3yy9",
        "outputId": "3ffbf642-a2a7-406b-92e5-5396458bc78f"
      },
      "source": [
        "a.pop(3)\r\n",
        "print(a)"
      ],
      "execution_count": null,
      "outputs": [
        {
          "output_type": "stream",
          "text": [
            "['youtube', 'letsupgrade', 8.3, 'saisir', 'paridhimaam', 'assignment']\n"
          ],
          "name": "stdout"
        }
      ]
    },
    {
      "cell_type": "code",
      "metadata": {
        "colab": {
          "base_uri": "https://localhost:8080/"
        },
        "id": "i6jOrKv_4E3C",
        "outputId": "14e4410d-cbc7-4cc9-c3c8-fecc34690549"
      },
      "source": [
        "a.reverse()\r\n",
        "print(a)"
      ],
      "execution_count": null,
      "outputs": [
        {
          "output_type": "stream",
          "text": [
            "['assignment', 'paridhimaam', 'saisir', 8.3, 'letsupgrade', 'youtube']\n"
          ],
          "name": "stdout"
        }
      ]
    },
    {
      "cell_type": "code",
      "metadata": {
        "id": "yxNQBh1y40Fd"
      },
      "source": [
        "a.remove(8.3)"
      ],
      "execution_count": null,
      "outputs": []
    },
    {
      "cell_type": "code",
      "metadata": {
        "colab": {
          "base_uri": "https://localhost:8080/"
        },
        "id": "DEm9JEXR5HHb",
        "outputId": "6e2f2cd7-43cd-4585-aa44-b019030effd3"
      },
      "source": [
        "print(a)"
      ],
      "execution_count": null,
      "outputs": [
        {
          "output_type": "stream",
          "text": [
            "['assignment', 'paridhimaam', 'saisir', 'letsupgrade', 'youtube']\n"
          ],
          "name": "stdout"
        }
      ]
    },
    {
      "cell_type": "code",
      "metadata": {
        "id": "koL21-HU5JrU"
      },
      "source": [
        "a.extend('mine')"
      ],
      "execution_count": null,
      "outputs": []
    },
    {
      "cell_type": "code",
      "metadata": {
        "colab": {
          "base_uri": "https://localhost:8080/"
        },
        "id": "X-SuaFXy5WyE",
        "outputId": "3581a40c-e58b-455c-a2e1-ab61031ddd4a"
      },
      "source": [
        "print(a)"
      ],
      "execution_count": null,
      "outputs": [
        {
          "output_type": "stream",
          "text": [
            "['assignment', 'paridhimaam', 'saisir', 'letsupgrade', 'youtube', 'm', 'i', 'n', 'e']\n"
          ],
          "name": "stdout"
        }
      ]
    },
    {
      "cell_type": "markdown",
      "metadata": {
        "id": "9gM7Ztw35zSH"
      },
      "source": [
        "Q2)Experiment with 5 dictionary's inbuilt functions"
      ]
    },
    {
      "cell_type": "code",
      "metadata": {
        "colab": {
          "base_uri": "https://localhost:8080/"
        },
        "id": "BISSNEoH5mXb",
        "outputId": "b10c203a-03f7-4ae6-89eb-06a3a424cb27"
      },
      "source": [
        "b = {'name' : 'swagatarath', 'Place' : 'Chatrapur', 'DOB' : '20thJuly1997'}\r\n",
        "type(b)"
      ],
      "execution_count": null,
      "outputs": [
        {
          "output_type": "execute_result",
          "data": {
            "text/plain": [
              "dict"
            ]
          },
          "metadata": {
            "tags": []
          },
          "execution_count": 28
        }
      ]
    },
    {
      "cell_type": "code",
      "metadata": {
        "colab": {
          "base_uri": "https://localhost:8080/"
        },
        "id": "vtZN3FQo6yDT",
        "outputId": "36a0246e-16d0-43a8-d904-57436c4a06b8"
      },
      "source": [
        "b.keys()"
      ],
      "execution_count": null,
      "outputs": [
        {
          "output_type": "execute_result",
          "data": {
            "text/plain": [
              "dict_keys(['name', 'Place', 'DOB'])"
            ]
          },
          "metadata": {
            "tags": []
          },
          "execution_count": 29
        }
      ]
    },
    {
      "cell_type": "code",
      "metadata": {
        "colab": {
          "base_uri": "https://localhost:8080/",
          "height": 36
        },
        "id": "w8eZduP965By",
        "outputId": "e286ed7d-d230-402a-8188-03f74f65014a"
      },
      "source": [
        "b.pop('name')"
      ],
      "execution_count": null,
      "outputs": [
        {
          "output_type": "execute_result",
          "data": {
            "application/vnd.google.colaboratory.intrinsic+json": {
              "type": "string"
            },
            "text/plain": [
              "'swagatarath'"
            ]
          },
          "metadata": {
            "tags": []
          },
          "execution_count": 30
        }
      ]
    },
    {
      "cell_type": "code",
      "metadata": {
        "colab": {
          "base_uri": "https://localhost:8080/"
        },
        "id": "IQRS-QeA7Jf0",
        "outputId": "b550c962-1ab6-42e5-e31f-c8aa43a0fa48"
      },
      "source": [
        "print(b)"
      ],
      "execution_count": null,
      "outputs": [
        {
          "output_type": "stream",
          "text": [
            "{'Place': 'Chatrapur', 'DOB': '20thJuly1997'}\n"
          ],
          "name": "stdout"
        }
      ]
    },
    {
      "cell_type": "code",
      "metadata": {
        "id": "LnFdCml47M6B"
      },
      "source": [
        "b.update(x=1)"
      ],
      "execution_count": null,
      "outputs": []
    },
    {
      "cell_type": "code",
      "metadata": {
        "colab": {
          "base_uri": "https://localhost:8080/"
        },
        "id": "_a3ifVbg7aoU",
        "outputId": "62ef67c5-748b-4fed-86aa-2b527ea94148"
      },
      "source": [
        "print(b)"
      ],
      "execution_count": null,
      "outputs": [
        {
          "output_type": "stream",
          "text": [
            "{'Place': 'Chatrapur', 'DOB': '20thJuly1997', 'x': 1}\n"
          ],
          "name": "stdout"
        }
      ]
    },
    {
      "cell_type": "code",
      "metadata": {
        "id": "W2E7EAhw8XCv"
      },
      "source": [
        "b.update(name='swagata')"
      ],
      "execution_count": null,
      "outputs": []
    },
    {
      "cell_type": "code",
      "metadata": {
        "colab": {
          "base_uri": "https://localhost:8080/"
        },
        "id": "aEJXRb-48f_V",
        "outputId": "59b5e313-a266-484d-8ca0-0caa49c44a6a"
      },
      "source": [
        "print(b)"
      ],
      "execution_count": null,
      "outputs": [
        {
          "output_type": "stream",
          "text": [
            "{'Place': 'Chatrapur', 'DOB': '20thJuly1997', 'x': 1, 'name': 'swagata'}\n"
          ],
          "name": "stdout"
        }
      ]
    },
    {
      "cell_type": "code",
      "metadata": {
        "colab": {
          "base_uri": "https://localhost:8080/"
        },
        "id": "ExXDhVgD8i4D",
        "outputId": "59688502-b170-4174-f345-734a8ae40d6c"
      },
      "source": [
        "b.get('x')"
      ],
      "execution_count": null,
      "outputs": [
        {
          "output_type": "execute_result",
          "data": {
            "text/plain": [
              "1"
            ]
          },
          "metadata": {
            "tags": []
          },
          "execution_count": 40
        }
      ]
    },
    {
      "cell_type": "code",
      "metadata": {
        "colab": {
          "base_uri": "https://localhost:8080/"
        },
        "id": "KT2mgL5u8uXz",
        "outputId": "74794a45-4167-44ba-8a21-6603134cd856"
      },
      "source": [
        "b.values()"
      ],
      "execution_count": null,
      "outputs": [
        {
          "output_type": "execute_result",
          "data": {
            "text/plain": [
              "dict_values(['Chatrapur', '20thJuly1997', 1, 'swagata'])"
            ]
          },
          "metadata": {
            "tags": []
          },
          "execution_count": 41
        }
      ]
    },
    {
      "cell_type": "code",
      "metadata": {
        "id": "0uC5RgLo82l4"
      },
      "source": [
        ""
      ],
      "execution_count": null,
      "outputs": []
    }
  ]
}